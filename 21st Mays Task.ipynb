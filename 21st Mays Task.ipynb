{
 "cells": [
  {
   "cell_type": "code",
   "execution_count": 3,
   "id": "99ce0096",
   "metadata": {},
   "outputs": [],
   "source": [
    "#1=[3,4,5,6,7,[23,456,67,8,78,78],[345,56,87,8,98,9], (234,6657,6),{\"key1\" : \"sudh\", 234:[23,45,656]}]\n",
    "#1.try to reverse a list\n",
    "#2.try to access 234 out of this list\n",
    "#3.try to access 456\n",
    "#4.try to extract only a list collection from list l\n",
    "#5.try to extract \"sudh\"\n",
    "#6.try to list all the key in dict element available in list\n",
    "#7.try to extract all the value element from dict available in list"
   ]
  },
  {
   "cell_type": "code",
   "execution_count": 5,
   "id": "c6283dee",
   "metadata": {},
   "outputs": [],
   "source": [
    "l=[3,4,5,6,7,[23,456,67,8,78,78],[345,56,87,8,98,9], (234,6657,6),{\"key1\" : \"sudh\", 234:[23,45,656]}]"
   ]
  },
  {
   "cell_type": "code",
   "execution_count": 13,
   "id": "8d0293e1",
   "metadata": {},
   "outputs": [
    {
     "data": {
      "text/plain": [
       "[78, 78, 8, 67, 456, 23]"
      ]
     },
     "execution_count": 13,
     "metadata": {},
     "output_type": "execute_result"
    }
   ],
   "source": [
    "#1.try to reverse a list\n",
    "R=l[5]\n",
    "R[::-1]"
   ]
  },
  {
   "cell_type": "code",
   "execution_count": 14,
   "id": "3a2c3abb",
   "metadata": {},
   "outputs": [
    {
     "data": {
      "text/plain": [
       "234"
      ]
     },
     "execution_count": 14,
     "metadata": {},
     "output_type": "execute_result"
    }
   ],
   "source": [
    "#2.try to access 234 out of this list\n",
    "l[7][0]"
   ]
  },
  {
   "cell_type": "code",
   "execution_count": 15,
   "id": "05c3f2f1",
   "metadata": {},
   "outputs": [
    {
     "data": {
      "text/plain": [
       "456"
      ]
     },
     "execution_count": 15,
     "metadata": {},
     "output_type": "execute_result"
    }
   ],
   "source": [
    "#3.try to access 456\n",
    "l[5][1]"
   ]
  },
  {
   "cell_type": "code",
   "execution_count": 32,
   "id": "0fbec0da",
   "metadata": {},
   "outputs": [
    {
     "data": {
      "text/plain": [
       "[[23, 456, 67, 8, 78, 78], [345, 56, 87, 8, 98, 9], [23, 45, 656]]"
      ]
     },
     "execution_count": 32,
     "metadata": {},
     "output_type": "execute_result"
    }
   ],
   "source": [
    "#4.try to extract only a list collection from list l\n",
    "l1=l[5]\n",
    "l2=l[6]\n",
    "l3=l[8][234]\n",
    "l4=[l1,l2,l3]\n",
    "l4"
   ]
  },
  {
   "cell_type": "code",
   "execution_count": 37,
   "id": "72b0a02d",
   "metadata": {},
   "outputs": [
    {
     "data": {
      "text/plain": [
       "'sudh'"
      ]
     },
     "execution_count": 37,
     "metadata": {},
     "output_type": "execute_result"
    }
   ],
   "source": [
    "#5.try to extract \"sudh\"\n",
    "S=l[8][\"key1\"]\n",
    "S"
   ]
  },
  {
   "cell_type": "code",
   "execution_count": 39,
   "id": "b4dd1365",
   "metadata": {},
   "outputs": [
    {
     "data": {
      "text/plain": [
       "dict_keys(['key1', 234])"
      ]
     },
     "execution_count": 39,
     "metadata": {},
     "output_type": "execute_result"
    }
   ],
   "source": [
    "#6.try to list all the key in dict element available in list\n",
    "l[8].keys()"
   ]
  },
  {
   "cell_type": "code",
   "execution_count": 41,
   "id": "9921f06c",
   "metadata": {},
   "outputs": [
    {
     "data": {
      "text/plain": [
       "dict_values(['sudh', [23, 45, 656]])"
      ]
     },
     "execution_count": 41,
     "metadata": {},
     "output_type": "execute_result"
    }
   ],
   "source": [
    "#7.try to extract all the value element from dict available in list\n",
    "l[8].values()"
   ]
  },
  {
   "cell_type": "code",
   "execution_count": null,
   "id": "1c73f7ba",
   "metadata": {},
   "outputs": [],
   "source": []
  },
  {
   "cell_type": "code",
   "execution_count": null,
   "id": "bfc01c3d",
   "metadata": {},
   "outputs": [],
   "source": []
  },
  {
   "cell_type": "code",
   "execution_count": null,
   "id": "e657e17b",
   "metadata": {},
   "outputs": [],
   "source": []
  },
  {
   "cell_type": "code",
   "execution_count": null,
   "id": "b5719adf",
   "metadata": {},
   "outputs": [],
   "source": []
  }
 ],
 "metadata": {
  "kernelspec": {
   "display_name": "Python 3 (ipykernel)",
   "language": "python",
   "name": "python3"
  },
  "language_info": {
   "codemirror_mode": {
    "name": "ipython",
    "version": 3
   },
   "file_extension": ".py",
   "mimetype": "text/x-python",
   "name": "python",
   "nbconvert_exporter": "python",
   "pygments_lexer": "ipython3",
   "version": "3.9.7"
  }
 },
 "nbformat": 4,
 "nbformat_minor": 5
}
